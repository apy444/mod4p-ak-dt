{
 "cells": [
  {
   "cell_type": "markdown",
   "metadata": {},
   "source": [
    "# Scoring model for LendingClub dataset - Technical notebook"
   ]
  },
  {
   "cell_type": "code",
   "execution_count": 80,
   "metadata": {},
   "outputs": [],
   "source": [
    "import pandas as pd\n",
    "import numpy as np\n",
    "import matplotlib.pyplot as plt\n",
    "import seaborn as sns\n",
    "import scipy.stats as stats\n",
    "from sklearn.linear_model import LogisticRegression\n",
    "from sklearn.model_selection import train_test_split\n",
    "\n",
    "from sklearn.metrics import confusion_matrix, classification_report\n",
    "from sklearn.model_selection import train_test_split\n",
    "from sklearn.model_selection import cross_validate\n",
    "from sklearn.model_selection import StratifiedKFold\n",
    "\n",
    "#created methods for datacleaning\n",
    "from loan_helper import data_cleaning\n",
    "from loan_helper import data_converting\n",
    "\n",
    "#normalization\n",
    "from sklearn.preprocessing import scale\n",
    "import statsmodels.api as sm"
   ]
  },
  {
   "cell_type": "code",
   "execution_count": 2,
   "metadata": {},
   "outputs": [
    {
     "name": "stdout",
     "output_type": "stream",
     "text": [
      "total 104\r\n",
      "drwxr-xr-x   3 Daniel  staff    96B Oct 21 13:33 \u001b[34m__pycache__\u001b[m\u001b[m\r\n",
      "drwxr-xr-x   9 Daniel  staff   288B Oct 21 13:31 \u001b[34m.\u001b[m\u001b[m\r\n",
      "-rw-r--r--@  1 Daniel  staff   2.1K Oct 21 13:31 loan_helper.py\r\n",
      "-rw-r--r--   1 Daniel  staff    22K Oct 21 13:30 Technical_Mod4.ipynb\r\n",
      "drwxr-xr-x   3 Daniel  staff    96B Oct 21 13:29 \u001b[34m.ipynb_checkpoints\u001b[m\u001b[m\r\n",
      "drwxr-xr-x   6 Daniel  staff   192B Oct 21 13:26 \u001b[34mLendingClub\u001b[m\u001b[m\r\n",
      "-rw-r--r--@  1 Daniel  staff   6.0K Oct 21 13:25 .DS_Store\r\n",
      "drwxr-xr-x  17 Daniel  staff   544B Oct 21 13:24 \u001b[34m..\u001b[m\u001b[m\r\n",
      "-rw-r--r--   1 Daniel  staff    16K Oct 21 13:21 col_selection.xlsx\r\n"
     ]
    }
   ],
   "source": [
    "!ls -lath"
   ]
  },
  {
   "cell_type": "markdown",
   "metadata": {},
   "source": [
    "#### LendingClub data source:\n",
    "\n",
    "https://www.lendingclub.com/info/download-data.action"
   ]
  },
  {
   "cell_type": "code",
   "execution_count": 3,
   "metadata": {},
   "outputs": [],
   "source": [
    "description = pd.read_excel('LendingClub/LCDataDictionary.xlsx')"
   ]
  },
  {
   "cell_type": "code",
   "execution_count": null,
   "metadata": {},
   "outputs": [],
   "source": [
    "# from zipfile import ZipFile\n",
    "# zip_file = ZipFile('LendingClub/LoanStats3d_securev1.csv.zip')\n",
    "# data_lc = pd.read_csv(zip_file.open('LoanStats3d_securev1.csv'), low_memory=False, header=1)"
   ]
  },
  {
   "cell_type": "code",
   "execution_count": 4,
   "metadata": {},
   "outputs": [],
   "source": [
    "#read LendingClub loan data from 2015\n",
    "data_lc = pd.read_csv('LendingClub/LoanStats3d_securev1.csv', low_memory=False, header=1)"
   ]
  },
  {
   "cell_type": "code",
   "execution_count": 5,
   "metadata": {},
   "outputs": [
    {
     "data": {
      "text/plain": [
       "(421095, 150)"
      ]
     },
     "execution_count": 5,
     "metadata": {},
     "output_type": "execute_result"
    }
   ],
   "source": [
    "#* * * IMPORTANT * * *\n",
    "#removed two rows with full NAN values\n",
    "data_lc = data_lc.loc[data_lc.loan_amnt.notnull()]\n",
    "data_lc.shape"
   ]
  },
  {
   "cell_type": "markdown",
   "metadata": {},
   "source": [
    "## Understanding the columns"
   ]
  },
  {
   "cell_type": "markdown",
   "metadata": {},
   "source": [
    "In order to understand the columns a dataframe will be created ('desc') with column names, two examples, datatype, and the long description."
   ]
  },
  {
   "cell_type": "code",
   "execution_count": 6,
   "metadata": {},
   "outputs": [],
   "source": [
    "col_selection = pd.read_excel('col_selection.xlsx')"
   ]
  },
  {
   "cell_type": "code",
   "execution_count": 7,
   "metadata": {},
   "outputs": [
    {
     "data": {
      "text/html": [
       "<div>\n",
       "<style scoped>\n",
       "    .dataframe tbody tr th:only-of-type {\n",
       "        vertical-align: middle;\n",
       "    }\n",
       "\n",
       "    .dataframe tbody tr th {\n",
       "        vertical-align: top;\n",
       "    }\n",
       "\n",
       "    .dataframe thead th {\n",
       "        text-align: right;\n",
       "    }\n",
       "</style>\n",
       "<table border=\"1\" class=\"dataframe\">\n",
       "  <thead>\n",
       "    <tr style=\"text-align: right;\">\n",
       "      <th></th>\n",
       "      <th>Unnamed: 0</th>\n",
       "      <th>col_name</th>\n",
       "      <th>exmp1</th>\n",
       "      <th>exmp2</th>\n",
       "      <th>nan_counts</th>\n",
       "      <th>dtype</th>\n",
       "      <th>Description</th>\n",
       "      <th>Decision</th>\n",
       "      <th>Cause</th>\n",
       "      <th>Unnamed: 9</th>\n",
       "    </tr>\n",
       "  </thead>\n",
       "  <tbody>\n",
       "    <tr>\n",
       "      <th>0</th>\n",
       "      <td>0.0</td>\n",
       "      <td>id</td>\n",
       "      <td>68466961</td>\n",
       "      <td>67715283</td>\n",
       "      <td>0</td>\n",
       "      <td>object</td>\n",
       "      <td>A unique LC assigned ID for the loan listing.</td>\n",
       "      <td>remove</td>\n",
       "      <td>no_effect</td>\n",
       "      <td>NaN</td>\n",
       "    </tr>\n",
       "    <tr>\n",
       "      <th>1</th>\n",
       "      <td>1.0</td>\n",
       "      <td>member_id</td>\n",
       "      <td>NaN</td>\n",
       "      <td>NaN</td>\n",
       "      <td>421095</td>\n",
       "      <td>float64</td>\n",
       "      <td>A unique LC assigned Id for the borrower member.</td>\n",
       "      <td>remove</td>\n",
       "      <td>no_effect</td>\n",
       "      <td>NaN</td>\n",
       "    </tr>\n",
       "    <tr>\n",
       "      <th>2</th>\n",
       "      <td>2.0</td>\n",
       "      <td>loan_amnt</td>\n",
       "      <td>28000</td>\n",
       "      <td>16000</td>\n",
       "      <td>0</td>\n",
       "      <td>float64</td>\n",
       "      <td>The listed amount of the loan applied for by t...</td>\n",
       "      <td>keep</td>\n",
       "      <td>NaN</td>\n",
       "      <td>NaN</td>\n",
       "    </tr>\n",
       "    <tr>\n",
       "      <th>3</th>\n",
       "      <td>3.0</td>\n",
       "      <td>funded_amnt</td>\n",
       "      <td>28000</td>\n",
       "      <td>16000</td>\n",
       "      <td>0</td>\n",
       "      <td>float64</td>\n",
       "      <td>The total amount committed to that loan at tha...</td>\n",
       "      <td>remove</td>\n",
       "      <td>redundant</td>\n",
       "      <td>NaN</td>\n",
       "    </tr>\n",
       "    <tr>\n",
       "      <th>4</th>\n",
       "      <td>4.0</td>\n",
       "      <td>funded_amnt_inv</td>\n",
       "      <td>28000</td>\n",
       "      <td>16000</td>\n",
       "      <td>0</td>\n",
       "      <td>float64</td>\n",
       "      <td>The total amount committed by investors for th...</td>\n",
       "      <td>remove</td>\n",
       "      <td>redundant</td>\n",
       "      <td>NaN</td>\n",
       "    </tr>\n",
       "  </tbody>\n",
       "</table>\n",
       "</div>"
      ],
      "text/plain": [
       "   Unnamed: 0         col_name     exmp1     exmp2  nan_counts    dtype  \\\n",
       "0         0.0               id  68466961  67715283           0   object   \n",
       "1         1.0        member_id       NaN       NaN      421095  float64   \n",
       "2         2.0        loan_amnt     28000     16000           0  float64   \n",
       "3         3.0      funded_amnt     28000     16000           0  float64   \n",
       "4         4.0  funded_amnt_inv     28000     16000           0  float64   \n",
       "\n",
       "                                         Description Decision      Cause  \\\n",
       "0      A unique LC assigned ID for the loan listing.   remove  no_effect   \n",
       "1   A unique LC assigned Id for the borrower member.   remove  no_effect   \n",
       "2  The listed amount of the loan applied for by t...     keep        NaN   \n",
       "3  The total amount committed to that loan at tha...   remove  redundant   \n",
       "4  The total amount committed by investors for th...   remove  redundant   \n",
       "\n",
       "  Unnamed: 9  \n",
       "0        NaN  \n",
       "1        NaN  \n",
       "2        NaN  \n",
       "3        NaN  \n",
       "4        NaN  "
      ]
     },
     "execution_count": 7,
     "metadata": {},
     "output_type": "execute_result"
    }
   ],
   "source": [
    "col_selection.head()"
   ]
  },
  {
   "cell_type": "code",
   "execution_count": 8,
   "metadata": {},
   "outputs": [
    {
     "data": {
      "text/plain": [
       "['loan_amnt',\n",
       " 'term',\n",
       " 'installment',\n",
       " 'grade',\n",
       " 'emp_length',\n",
       " 'home_ownership',\n",
       " 'annual_inc',\n",
       " 'verification_status',\n",
       " 'loan_status',\n",
       " 'purpose',\n",
       " 'dti',\n",
       " 'delinq_2yrs',\n",
       " 'earliest_cr_line',\n",
       " 'fico_range_low',\n",
       " 'inq_last_6mths',\n",
       " 'open_acc',\n",
       " 'pub_rec',\n",
       " 'revol_bal',\n",
       " 'revol_util',\n",
       " 'total_acc',\n",
       " 'collections_12_mths_ex_med']"
      ]
     },
     "execution_count": 8,
     "metadata": {},
     "output_type": "execute_result"
    }
   ],
   "source": [
    "selected_col = col_selection.loc[col_selection.Decision == 'keep', 'col_name'].to_list()\n",
    "selected_col"
   ]
  },
  {
   "cell_type": "markdown",
   "metadata": {},
   "source": [
    "## Feature selection and feature engineering"
   ]
  },
  {
   "cell_type": "markdown",
   "metadata": {},
   "source": [
    "### First round feauture selection"
   ]
  },
  {
   "cell_type": "markdown",
   "metadata": {},
   "source": [
    "Originally the dataset contained 150 columns. When we were reducing the features in order to avoid the overfitting the model we selected features according to the following:\n",
    "\n",
    "- Discarded columns that contained payment or collection information (47 columns)\n",
    "- Discarded columns that contained information that were not available at the time of credit application\n",
    "- Discarded features that require too much data processing (typically free input i.e. emp_title)\n",
    "- Discarded redundant features (subgrade - grade, title - purpose)\n",
    "- Discarded feauters that contain too much NAN values (mnths_since_last_delinq, mths_since_recent_bc_dlq, mths_since_recent_revol_delinq)"
   ]
  },
  {
   "cell_type": "code",
   "execution_count": 9,
   "metadata": {},
   "outputs": [],
   "source": [
    "dataset = data_lc.loc[:, selected_col]"
   ]
  },
  {
   "cell_type": "code",
   "execution_count": 10,
   "metadata": {},
   "outputs": [
    {
     "data": {
      "text/plain": [
       "(421095, 21)"
      ]
     },
     "execution_count": 10,
     "metadata": {},
     "output_type": "execute_result"
    }
   ],
   "source": [
    "dataset.shape"
   ]
  },
  {
   "cell_type": "code",
   "execution_count": 11,
   "metadata": {},
   "outputs": [
    {
     "name": "stdout",
     "output_type": "stream",
     "text": [
      "<class 'pandas.core.frame.DataFrame'>\n",
      "Int64Index: 421095 entries, 0 to 421094\n",
      "Data columns (total 21 columns):\n",
      "loan_amnt                     421095 non-null float64\n",
      "term                          421095 non-null object\n",
      "installment                   421095 non-null float64\n",
      "grade                         421095 non-null object\n",
      "emp_length                    397278 non-null object\n",
      "home_ownership                421095 non-null object\n",
      "annual_inc                    421095 non-null float64\n",
      "verification_status           421095 non-null object\n",
      "loan_status                   421095 non-null object\n",
      "purpose                       421095 non-null object\n",
      "dti                           421093 non-null float64\n",
      "delinq_2yrs                   421095 non-null float64\n",
      "earliest_cr_line              421095 non-null object\n",
      "fico_range_low                421095 non-null float64\n",
      "inq_last_6mths                421095 non-null float64\n",
      "open_acc                      421095 non-null float64\n",
      "pub_rec                       421095 non-null float64\n",
      "revol_bal                     421095 non-null float64\n",
      "revol_util                    420933 non-null object\n",
      "total_acc                     421095 non-null float64\n",
      "collections_12_mths_ex_med    421095 non-null float64\n",
      "dtypes: float64(12), object(9)\n",
      "memory usage: 70.7+ MB\n"
     ]
    }
   ],
   "source": [
    "dataset.info()"
   ]
  },
  {
   "cell_type": "markdown",
   "metadata": {},
   "source": [
    "### Converting to data types\n",
    "\n",
    "- emp_length column to convert numeric and missing values replaced with average\n",
    "- earliest credit line: convert date to numeric (years)\n",
    "- revol_util (revolving utilization) convert to numeric"
   ]
  },
  {
   "cell_type": "code",
   "execution_count": 12,
   "metadata": {},
   "outputs": [],
   "source": [
    "dataset = data_converting(dataset)"
   ]
  },
  {
   "cell_type": "code",
   "execution_count": 13,
   "metadata": {},
   "outputs": [
    {
     "name": "stdout",
     "output_type": "stream",
     "text": [
      "<class 'pandas.core.frame.DataFrame'>\n",
      "Int64Index: 421095 entries, 0 to 421094\n",
      "Data columns (total 21 columns):\n",
      "loan_amnt                     421095 non-null float64\n",
      "term                          421095 non-null object\n",
      "installment                   421095 non-null float64\n",
      "grade                         421095 non-null int64\n",
      "emp_length                    397278 non-null float64\n",
      "home_ownership                421095 non-null object\n",
      "annual_inc                    421095 non-null float64\n",
      "verification_status           421095 non-null object\n",
      "loan_status                   421095 non-null object\n",
      "purpose                       421095 non-null object\n",
      "dti                           421093 non-null float64\n",
      "delinq_2yrs                   421095 non-null float64\n",
      "earliest_cr_line              421095 non-null int64\n",
      "fico_range_low                421095 non-null float64\n",
      "inq_last_6mths                421095 non-null float64\n",
      "open_acc                      421095 non-null float64\n",
      "pub_rec                       421095 non-null float64\n",
      "revol_bal                     421095 non-null float64\n",
      "revol_util                    420933 non-null float64\n",
      "total_acc                     421095 non-null float64\n",
      "collections_12_mths_ex_med    421095 non-null float64\n",
      "dtypes: float64(14), int64(2), object(5)\n",
      "memory usage: 70.7+ MB\n"
     ]
    }
   ],
   "source": [
    "dataset.info()"
   ]
  },
  {
   "cell_type": "markdown",
   "metadata": {},
   "source": [
    "## Deciding on the target feature, creating X and y"
   ]
  },
  {
   "cell_type": "code",
   "execution_count": 14,
   "metadata": {},
   "outputs": [
    {
     "data": {
      "text/plain": [
       "Fully Paid            307320\n",
       "Charged Off            77884\n",
       "Current                34175\n",
       "Late (31-120 days)       997\n",
       "In Grace Period          544\n",
       "Late (16-30 days)        171\n",
       "Default                    4\n",
       "Name: loan_status, dtype: int64"
      ]
     },
     "execution_count": 14,
     "metadata": {},
     "output_type": "execute_result"
    }
   ],
   "source": [
    "dataset.loan_status.value_counts()"
   ]
  },
  {
   "cell_type": "markdown",
   "metadata": {},
   "source": [
    "#### Meaning of the categories\n",
    "<b>Fully paid:</b> Loan has been fully repaid, either at the expiration of the 3- or 5-year year term or as a result of a prepayment.\n",
    "\n",
    "<b>Current:</b> Loan is up to date on all outstanding payments. \n",
    "\n",
    "<b>In Grace Period:</b> Loan is past due but within the 15-day grace period. \n",
    "\n",
    "<b>Late (16-30):</b> Loan has not been current for 16 to 30 days. Learn more about the tools LendingClub has to deal with delinquent borrowers.\n",
    "\n",
    "<b>Late (31-120):</b> Loan has not been current for 31 to 120 days. Learn more about the tools LendingClub has to deal with delinquent borrowers.\n",
    "\n",
    "<b>Default:</b> Loan has not been current for an extended period of time. Learn more about the difference between “default” and “charge off”.\n",
    "\n",
    "<b>Charged Off:</b> Loan for which there is no longer a reasonable expectation of further payments. Upon Charge Off, the remaining principal balance of the Note is deducted from the account balance. Learn more about the difference between “default” and “charge off”.\n",
    "\n",
    "Sosurce: https://help.lendingclub.com/hc/en-us/articles/215488038-What-do-the-different-Note-statuses-mean-"
   ]
  },
  {
   "cell_type": "code",
   "execution_count": 15,
   "metadata": {},
   "outputs": [
    {
     "data": {
      "text/html": [
       "<div>\n",
       "<style scoped>\n",
       "    .dataframe tbody tr th:only-of-type {\n",
       "        vertical-align: middle;\n",
       "    }\n",
       "\n",
       "    .dataframe tbody tr th {\n",
       "        vertical-align: top;\n",
       "    }\n",
       "\n",
       "    .dataframe thead th {\n",
       "        text-align: right;\n",
       "    }\n",
       "</style>\n",
       "<table border=\"1\" class=\"dataframe\">\n",
       "  <thead>\n",
       "    <tr style=\"text-align: right;\">\n",
       "      <th>loan_status</th>\n",
       "      <th>Charged Off</th>\n",
       "      <th>Current</th>\n",
       "      <th>Default</th>\n",
       "      <th>Fully Paid</th>\n",
       "      <th>In Grace Period</th>\n",
       "      <th>Late (16-30 days)</th>\n",
       "      <th>Late (31-120 days)</th>\n",
       "    </tr>\n",
       "    <tr>\n",
       "      <th>term</th>\n",
       "      <th></th>\n",
       "      <th></th>\n",
       "      <th></th>\n",
       "      <th></th>\n",
       "      <th></th>\n",
       "      <th></th>\n",
       "      <th></th>\n",
       "    </tr>\n",
       "  </thead>\n",
       "  <tbody>\n",
       "    <tr>\n",
       "      <th>36 months</th>\n",
       "      <td>42178</td>\n",
       "      <td>3</td>\n",
       "      <td>1</td>\n",
       "      <td>240991</td>\n",
       "      <td>0</td>\n",
       "      <td>0</td>\n",
       "      <td>0</td>\n",
       "    </tr>\n",
       "    <tr>\n",
       "      <th>60 months</th>\n",
       "      <td>35706</td>\n",
       "      <td>34172</td>\n",
       "      <td>3</td>\n",
       "      <td>66329</td>\n",
       "      <td>544</td>\n",
       "      <td>171</td>\n",
       "      <td>997</td>\n",
       "    </tr>\n",
       "  </tbody>\n",
       "</table>\n",
       "</div>"
      ],
      "text/plain": [
       "loan_status  Charged Off  Current  Default  Fully Paid  In Grace Period  \\\n",
       "term                                                                      \n",
       " 36 months         42178        3        1      240991                0   \n",
       " 60 months         35706    34172        3       66329              544   \n",
       "\n",
       "loan_status  Late (16-30 days)  Late (31-120 days)  \n",
       "term                                                \n",
       " 36 months                   0                   0  \n",
       " 60 months                 171                 997  "
      ]
     },
     "execution_count": 15,
     "metadata": {},
     "output_type": "execute_result"
    }
   ],
   "source": [
    "pd.crosstab(columns=dataset['loan_status'], index=dataset['term'],)"
   ]
  },
  {
   "cell_type": "markdown",
   "metadata": {},
   "source": [
    "We decided to ignore the 'gray' categories, where there might chance to the recovery of the loan. The 'Current' category contains the 60 months term loans, removing them would panalize the long term loans by increasing the default rate within this category. "
   ]
  },
  {
   "cell_type": "code",
   "execution_count": 16,
   "metadata": {},
   "outputs": [],
   "source": [
    "#Select default categories:\n",
    "dataset.loc[dataset.loan_status == 'Fully Paid', 'default'] = 0\n",
    "dataset.loc[dataset.loan_status == 'Charged Off', 'default'] = 1\n",
    "dataset.loc[dataset.loan_status == 'Current', 'default'] = 0\n",
    "\n",
    "dataset = dataset.loc[dataset.default.notnull()]"
   ]
  },
  {
   "cell_type": "code",
   "execution_count": 17,
   "metadata": {},
   "outputs": [],
   "source": [
    "#remove loan_status, default replace it\n",
    "dataset.drop(columns='loan_status', inplace=True)"
   ]
  },
  {
   "cell_type": "code",
   "execution_count": 18,
   "metadata": {},
   "outputs": [
    {
     "data": {
      "image/png": "[encoded data removed]",
      "text/plain": [
       "<Figure size 432x360 with 1 Axes>"
      ]
     },
     "metadata": {
      "needs_background": "light"
     },
     "output_type": "display_data"
    }
   ],
   "source": [
    "plt.figure(figsize=(6,5))\n",
    "plt.bar(x=['non default', 'default'], height=dataset.default.value_counts()/len(dataset), width=0.6,)\n",
    "plt.title('The distribution of defaulted and non defaulted loans\\n')\n",
    "ax=plt.gca();"
   ]
  },
  {
   "cell_type": "code",
   "execution_count": 19,
   "metadata": {},
   "outputs": [],
   "source": [
    "x_feats = dataset.columns.to_list()\n",
    "x_feats.remove('default')"
   ]
  },
  {
   "cell_type": "code",
   "execution_count": 20,
   "metadata": {},
   "outputs": [
    {
     "data": {
      "text/plain": [
       "20"
      ]
     },
     "execution_count": 20,
     "metadata": {},
     "output_type": "execute_result"
    }
   ],
   "source": [
    "len(x_feats)"
   ]
  },
  {
   "cell_type": "code",
   "execution_count": 164,
   "metadata": {},
   "outputs": [],
   "source": [
    "# !!!!! RESET INDEX FOR DATASET\n",
    "dataset = dataset.reset_index()"
   ]
  },
  {
   "cell_type": "code",
   "execution_count": 165,
   "metadata": {},
   "outputs": [],
   "source": [
    "X = pd.get_dummies(dataset[x_feats], drop_first=True)"
   ]
  },
  {
   "cell_type": "code",
   "execution_count": 166,
   "metadata": {},
   "outputs": [],
   "source": [
    "y = dataset.default"
   ]
  },
  {
   "cell_type": "code",
   "execution_count": 167,
   "metadata": {},
   "outputs": [
    {
     "data": {
      "text/plain": [
       "0.0    341495\n",
       "1.0     77884\n",
       "Name: default, dtype: int64"
      ]
     },
     "execution_count": 167,
     "metadata": {},
     "output_type": "execute_result"
    }
   ],
   "source": [
    "y.value_counts()"
   ]
  },
  {
   "cell_type": "code",
   "execution_count": 168,
   "metadata": {},
   "outputs": [
    {
     "data": {
      "text/html": [
       "<div>\n",
       "<style scoped>\n",
       "    .dataframe tbody tr th:only-of-type {\n",
       "        vertical-align: middle;\n",
       "    }\n",
       "\n",
       "    .dataframe tbody tr th {\n",
       "        vertical-align: top;\n",
       "    }\n",
       "\n",
       "    .dataframe thead th {\n",
       "        text-align: right;\n",
       "    }\n",
       "</style>\n",
       "<table border=\"1\" class=\"dataframe\">\n",
       "  <thead>\n",
       "    <tr style=\"text-align: right;\">\n",
       "      <th></th>\n",
       "      <th>loan_amnt</th>\n",
       "      <th>installment</th>\n",
       "      <th>grade</th>\n",
       "      <th>emp_length</th>\n",
       "      <th>annual_inc</th>\n",
       "      <th>dti</th>\n",
       "      <th>delinq_2yrs</th>\n",
       "      <th>earliest_cr_line</th>\n",
       "      <th>fico_range_low</th>\n",
       "      <th>inq_last_6mths</th>\n",
       "      <th>...</th>\n",
       "      <th>verification_status_Verified</th>\n",
       "      <th>purpose_credit_card</th>\n",
       "      <th>purpose_debt_consolidation</th>\n",
       "      <th>purpose_home_improvement</th>\n",
       "      <th>purpose_house</th>\n",
       "      <th>purpose_major_purchase</th>\n",
       "      <th>purpose_medical</th>\n",
       "      <th>purpose_moving</th>\n",
       "      <th>purpose_other</th>\n",
       "      <th>purpose_small_business</th>\n",
       "    </tr>\n",
       "  </thead>\n",
       "  <tbody>\n",
       "    <tr>\n",
       "      <th>0</th>\n",
       "      <td>20000.0</td>\n",
       "      <td>631.26</td>\n",
       "      <td>6</td>\n",
       "      <td>10.0</td>\n",
       "      <td>85000.0</td>\n",
       "      <td>17.61</td>\n",
       "      <td>1.0</td>\n",
       "      <td>16</td>\n",
       "      <td>705.0</td>\n",
       "      <td>0.0</td>\n",
       "      <td>...</td>\n",
       "      <td>0</td>\n",
       "      <td>0</td>\n",
       "      <td>0</td>\n",
       "      <td>0</td>\n",
       "      <td>0</td>\n",
       "      <td>1</td>\n",
       "      <td>0</td>\n",
       "      <td>0</td>\n",
       "      <td>0</td>\n",
       "      <td>0</td>\n",
       "    </tr>\n",
       "    <tr>\n",
       "      <th>1</th>\n",
       "      <td>24000.0</td>\n",
       "      <td>507.58</td>\n",
       "      <td>6</td>\n",
       "      <td>NaN</td>\n",
       "      <td>77900.0</td>\n",
       "      <td>10.24</td>\n",
       "      <td>0.0</td>\n",
       "      <td>33</td>\n",
       "      <td>740.0</td>\n",
       "      <td>1.0</td>\n",
       "      <td>...</td>\n",
       "      <td>0</td>\n",
       "      <td>0</td>\n",
       "      <td>0</td>\n",
       "      <td>1</td>\n",
       "      <td>0</td>\n",
       "      <td>0</td>\n",
       "      <td>0</td>\n",
       "      <td>0</td>\n",
       "      <td>0</td>\n",
       "      <td>0</td>\n",
       "    </tr>\n",
       "    <tr>\n",
       "      <th>2</th>\n",
       "      <td>27500.0</td>\n",
       "      <td>652.06</td>\n",
       "      <td>5</td>\n",
       "      <td>10.0</td>\n",
       "      <td>195000.0</td>\n",
       "      <td>6.79</td>\n",
       "      <td>0.0</td>\n",
       "      <td>14</td>\n",
       "      <td>700.0</td>\n",
       "      <td>0.0</td>\n",
       "      <td>...</td>\n",
       "      <td>0</td>\n",
       "      <td>0</td>\n",
       "      <td>0</td>\n",
       "      <td>0</td>\n",
       "      <td>0</td>\n",
       "      <td>0</td>\n",
       "      <td>0</td>\n",
       "      <td>0</td>\n",
       "      <td>1</td>\n",
       "      <td>0</td>\n",
       "    </tr>\n",
       "    <tr>\n",
       "      <th>3</th>\n",
       "      <td>20000.0</td>\n",
       "      <td>602.30</td>\n",
       "      <td>7</td>\n",
       "      <td>9.0</td>\n",
       "      <td>65000.0</td>\n",
       "      <td>18.83</td>\n",
       "      <td>0.0</td>\n",
       "      <td>24</td>\n",
       "      <td>835.0</td>\n",
       "      <td>1.0</td>\n",
       "      <td>...</td>\n",
       "      <td>0</td>\n",
       "      <td>0</td>\n",
       "      <td>1</td>\n",
       "      <td>0</td>\n",
       "      <td>0</td>\n",
       "      <td>0</td>\n",
       "      <td>0</td>\n",
       "      <td>0</td>\n",
       "      <td>0</td>\n",
       "      <td>0</td>\n",
       "    </tr>\n",
       "    <tr>\n",
       "      <th>4</th>\n",
       "      <td>8000.0</td>\n",
       "      <td>263.74</td>\n",
       "      <td>6</td>\n",
       "      <td>10.0</td>\n",
       "      <td>42000.0</td>\n",
       "      <td>34.80</td>\n",
       "      <td>0.0</td>\n",
       "      <td>21</td>\n",
       "      <td>700.0</td>\n",
       "      <td>0.0</td>\n",
       "      <td>...</td>\n",
       "      <td>0</td>\n",
       "      <td>1</td>\n",
       "      <td>0</td>\n",
       "      <td>0</td>\n",
       "      <td>0</td>\n",
       "      <td>0</td>\n",
       "      <td>0</td>\n",
       "      <td>0</td>\n",
       "      <td>0</td>\n",
       "      <td>0</td>\n",
       "    </tr>\n",
       "  </tbody>\n",
       "</table>\n",
       "<p>5 rows × 31 columns</p>\n",
       "</div>"
      ],
      "text/plain": [
       "   loan_amnt  installment  grade  emp_length  annual_inc    dti  delinq_2yrs  \\\n",
       "0    20000.0       631.26      6        10.0     85000.0  17.61          1.0   \n",
       "1    24000.0       507.58      6         NaN     77900.0  10.24          0.0   \n",
       "2    27500.0       652.06      5        10.0    195000.0   6.79          0.0   \n",
       "3    20000.0       602.30      7         9.0     65000.0  18.83          0.0   \n",
       "4     8000.0       263.74      6        10.0     42000.0  34.80          0.0   \n",
       "\n",
       "   earliest_cr_line  fico_range_low  inq_last_6mths  ...  \\\n",
       "0                16           705.0             0.0  ...   \n",
       "1                33           740.0             1.0  ...   \n",
       "2                14           700.0             0.0  ...   \n",
       "3                24           835.0             1.0  ...   \n",
       "4                21           700.0             0.0  ...   \n",
       "\n",
       "   verification_status_Verified  purpose_credit_card  \\\n",
       "0                             0                    0   \n",
       "1                             0                    0   \n",
       "2                             0                    0   \n",
       "3                             0                    0   \n",
       "4                             0                    1   \n",
       "\n",
       "   purpose_debt_consolidation  purpose_home_improvement  purpose_house  \\\n",
       "0                           0                         0              0   \n",
       "1                           0                         1              0   \n",
       "2                           0                         0              0   \n",
       "3                           1                         0              0   \n",
       "4                           0                         0              0   \n",
       "\n",
       "   purpose_major_purchase  purpose_medical  purpose_moving  purpose_other  \\\n",
       "0                       1                0               0              0   \n",
       "1                       0                0               0              0   \n",
       "2                       0                0               0              1   \n",
       "3                       0                0               0              0   \n",
       "4                       0                0               0              0   \n",
       "\n",
       "   purpose_small_business  \n",
       "0                       0  \n",
       "1                       0  \n",
       "2                       0  \n",
       "3                       0  \n",
       "4                       0  \n",
       "\n",
       "[5 rows x 31 columns]"
      ]
     },
     "execution_count": 168,
     "metadata": {},
     "output_type": "execute_result"
    }
   ],
   "source": [
    "X.head()"
   ]
  },
  {
   "cell_type": "code",
   "execution_count": 169,
   "metadata": {},
   "outputs": [
    {
     "data": {
      "text/plain": [
       "31"
      ]
     },
     "execution_count": 169,
     "metadata": {},
     "output_type": "execute_result"
    }
   ],
   "source": [
    "len(X.columns)"
   ]
  },
  {
   "cell_type": "markdown",
   "metadata": {},
   "source": [
    "## Train-Test Split"
   ]
  },
  {
   "cell_type": "code",
   "execution_count": 170,
   "metadata": {},
   "outputs": [],
   "source": [
    "X_train, X_test, y_train, y_test = train_test_split(X, y, random_state=0, stratify=y) #25%"
   ]
  },
  {
   "cell_type": "code",
   "execution_count": 171,
   "metadata": {},
   "outputs": [
    {
     "data": {
      "text/plain": [
       "0.0    256121\n",
       "1.0     58413\n",
       "Name: default, dtype: int64"
      ]
     },
     "execution_count": 171,
     "metadata": {},
     "output_type": "execute_result"
    }
   ],
   "source": [
    "y_train.value_counts()"
   ]
  },
  {
   "cell_type": "code",
   "execution_count": 172,
   "metadata": {},
   "outputs": [
    {
     "data": {
      "text/plain": [
       "0.0    85374\n",
       "1.0    19471\n",
       "Name: default, dtype: int64"
      ]
     },
     "execution_count": 172,
     "metadata": {},
     "output_type": "execute_result"
    }
   ],
   "source": [
    "y_test.value_counts()"
   ]
  },
  {
   "cell_type": "markdown",
   "metadata": {},
   "source": [
    "## Further dataleaning separately for train and test"
   ]
  },
  {
   "cell_type": "markdown",
   "metadata": {},
   "source": [
    "#### Summary:\n",
    "\n",
    "- annual_inc: in case of annual income we had to handle extreme values (there are many strategies, we were choosing truncating the extreme values to the value of the 99.5 quantile)\n"
   ]
  },
  {
   "cell_type": "code",
   "execution_count": 173,
   "metadata": {},
   "outputs": [
    {
     "name": "stderr",
     "output_type": "stream",
     "text": [
      "//anaconda3/lib/python3.7/site-packages/pandas/core/indexing.py:543: SettingWithCopyWarning: \n",
      "A value is trying to be set on a copy of a slice from a DataFrame.\n",
      "Try using .loc[row_indexer,col_indexer] = value instead\n",
      "\n",
      "See the caveats in the documentation: http://pandas.pydata.org/pandas-docs/stable/indexing.html#indexing-view-versus-copy\n",
      "  self.obj[item] = s\n"
     ]
    }
   ],
   "source": [
    "X_train = data_cleaning(X_train)"
   ]
  },
  {
   "cell_type": "code",
   "execution_count": 174,
   "metadata": {},
   "outputs": [],
   "source": [
    "X_test = data_cleaning(X_test)"
   ]
  },
  {
   "cell_type": "markdown",
   "metadata": {},
   "source": [
    "- Setting Null values as mean for emp_lenth for both test and train"
   ]
  },
  {
   "cell_type": "code",
   "execution_count": 175,
   "metadata": {},
   "outputs": [],
   "source": [
    "X_test.loc[X_test.emp_length.isna(), 'emp_length'] = round(X_test.emp_length.mean())"
   ]
  },
  {
   "cell_type": "code",
   "execution_count": 176,
   "metadata": {},
   "outputs": [],
   "source": [
    "X_train.loc[X_train.emp_length.isna(), 'emp_length'] = round(X_train.emp_length.mean())"
   ]
  },
  {
   "cell_type": "markdown",
   "metadata": {},
   "source": [
    "- Setting Null values as median for revol_util & dti for both test and train "
   ]
  },
  {
   "cell_type": "code",
   "execution_count": 177,
   "metadata": {},
   "outputs": [],
   "source": [
    "X_test.loc[X_test.revol_util.isna(), 'revol_util'] = X_test.revol_util.median(skipna=True)"
   ]
  },
  {
   "cell_type": "code",
   "execution_count": 178,
   "metadata": {},
   "outputs": [],
   "source": [
    "X_train.loc[X_train.revol_util.isna(), 'revol_util'] = X_train.revol_util.median(skipna=True)"
   ]
  },
  {
   "cell_type": "code",
   "execution_count": 179,
   "metadata": {},
   "outputs": [],
   "source": [
    "X_train.loc[X_train.dti.isna(), 'dti'] = X_train.dti.median(skipna=True)"
   ]
  },
  {
   "cell_type": "code",
   "execution_count": 180,
   "metadata": {},
   "outputs": [],
   "source": [
    "X_test.loc[X_test.dti.isna(), 'dti'] = X_test.dti.median(skipna=True)"
   ]
  },
  {
   "cell_type": "markdown",
   "metadata": {},
   "source": [
    "- Truncking income salary for both test and train"
   ]
  },
  {
   "cell_type": "code",
   "execution_count": 181,
   "metadata": {},
   "outputs": [],
   "source": [
    "inc_trunc = X_test.annual_inc.quantile(q=0.995)\n",
    "X_test.loc[X_test.annual_inc>inc_trunc, 'annual_inc'] = X_test.annual_inc.quantile(q=0.995)"
   ]
  },
  {
   "cell_type": "code",
   "execution_count": 182,
   "metadata": {},
   "outputs": [],
   "source": [
    "inc_trunc = X_train.annual_inc.quantile(q=0.995)\n",
    "X_train.loc[X_train.annual_inc>inc_trunc, 'annual_inc'] = X_train.annual_inc.quantile(q=0.995)"
   ]
  },
  {
   "cell_type": "code",
   "execution_count": 183,
   "metadata": {},
   "outputs": [
    {
     "name": "stdout",
     "output_type": "stream",
     "text": [
      "<class 'pandas.core.frame.DataFrame'>\n",
      "Int64Index: 104845 entries, 251336 to 13489\n",
      "Data columns (total 31 columns):\n",
      "loan_amnt                              104845 non-null float64\n",
      "installment                            104845 non-null float64\n",
      "grade                                  104845 non-null int64\n",
      "emp_length                             104845 non-null float64\n",
      "annual_inc                             104845 non-null float64\n",
      "dti                                    104845 non-null float64\n",
      "delinq_2yrs                            104845 non-null float64\n",
      "earliest_cr_line                       104845 non-null int64\n",
      "fico_range_low                         104845 non-null float64\n",
      "inq_last_6mths                         104845 non-null float64\n",
      "open_acc                               104845 non-null float64\n",
      "pub_rec                                104845 non-null float64\n",
      "revol_bal                              104845 non-null float64\n",
      "revol_util                             104845 non-null float64\n",
      "total_acc                              104845 non-null float64\n",
      "collections_12_mths_ex_med             104845 non-null float64\n",
      "term_ 60 months                        104845 non-null uint8\n",
      "home_ownership_MORTGAGE                104845 non-null uint8\n",
      "home_ownership_OWN                     104845 non-null uint8\n",
      "home_ownership_RENT                    104845 non-null uint8\n",
      "verification_status_Source Verified    104845 non-null uint8\n",
      "verification_status_Verified           104845 non-null uint8\n",
      "purpose_credit_card                    104845 non-null uint8\n",
      "purpose_debt_consolidation             104845 non-null uint8\n",
      "purpose_home_improvement               104845 non-null uint8\n",
      "purpose_house                          104845 non-null uint8\n",
      "purpose_major_purchase                 104845 non-null uint8\n",
      "purpose_medical                        104845 non-null uint8\n",
      "purpose_moving                         104845 non-null uint8\n",
      "purpose_other                          104845 non-null uint8\n",
      "purpose_small_business                 104845 non-null uint8\n",
      "dtypes: float64(14), int64(2), uint8(15)\n",
      "memory usage: 15.1 MB\n"
     ]
    }
   ],
   "source": [
    "X_test.info()"
   ]
  },
  {
   "cell_type": "markdown",
   "metadata": {},
   "source": [
    "## Normalization"
   ]
  },
  {
   "cell_type": "code",
   "execution_count": 184,
   "metadata": {},
   "outputs": [],
   "source": [
    "X_train_norm = scale(X_train, axis = 0) \n",
    "X_test_norm = scale(X_test, axis = 0)"
   ]
  },
  {
   "cell_type": "markdown",
   "metadata": {},
   "source": [
    " ## Fit a Model"
   ]
  },
  {
   "cell_type": "markdown",
   "metadata": {},
   "source": [
    "### Imbalance Strategies"
   ]
  },
  {
   "cell_type": "markdown",
   "metadata": {},
   "source": [
    "- Strategy (I): Giving weight to undersample category"
   ]
  },
  {
   "cell_type": "code",
   "execution_count": 104,
   "metadata": {},
   "outputs": [
    {
     "name": "stderr",
     "output_type": "stream",
     "text": [
      "//anaconda3/lib/python3.7/site-packages/sklearn/linear_model/sag.py:337: ConvergenceWarning: The max_iter was reached which means the coef_ did not converge\n",
      "  \"the coef_ did not converge\", ConvergenceWarning)\n"
     ]
    },
    {
     "data": {
      "text/plain": [
       "LogisticRegression(C=1, class_weight={0: 1, 1: 4}, dual=False,\n",
       "                   fit_intercept=False, intercept_scaling=1, l1_ratio=None,\n",
       "                   max_iter=500, multi_class='warn', n_jobs=None, penalty='l1',\n",
       "                   random_state=None, solver='saga', tol=0.0001, verbose=0,\n",
       "                   warm_start=False)"
      ]
     },
     "execution_count": 104,
     "metadata": {},
     "output_type": "execute_result"
    }
   ],
   "source": [
    "log_reg = LogisticRegression(fit_intercept = False, C = 1, penalty = 'l1', solver='saga', \n",
    "                            class_weight = {1 : 4, 0 : 1}, max_iter = 500)\n",
    "model_log = log_reg.fit(X_train_norm, y_train)\n",
    "model_log"
   ]
  },
  {
   "cell_type": "code",
   "execution_count": 105,
   "metadata": {},
   "outputs": [
    {
     "data": {
      "text/plain": [
       "array([[-0.33392381,  0.35716937, -0.41004416, -0.00992763, -0.06788454,\n",
       "         0.12227894,  0.00553149, -0.01591822, -0.16539189,  0.08098984,\n",
       "         0.0780778 ,  0.02121501, -0.05697135, -0.03845391, -0.03474907,\n",
       "         0.01236504,  0.25665364, -0.03876879,  0.02742063,  0.10085146,\n",
       "         0.0581001 ,  0.0790247 ,  0.03849073,  0.05782492,  0.04004543,\n",
       "        -0.0067869 ,  0.02075672,  0.01283546,  0.00787808,  0.01464979,\n",
       "         0.01942688]])"
      ]
     },
     "execution_count": 105,
     "metadata": {},
     "output_type": "execute_result"
    }
   ],
   "source": [
    "model_log.coef_"
   ]
  },
  {
   "cell_type": "code",
   "execution_count": 106,
   "metadata": {},
   "outputs": [
    {
     "data": {
      "text/plain": [
       "array([0.])"
      ]
     },
     "execution_count": 106,
     "metadata": {},
     "output_type": "execute_result"
    }
   ],
   "source": [
    "model_log.intercept_"
   ]
  },
  {
   "cell_type": "code",
   "execution_count": 115,
   "metadata": {},
   "outputs": [],
   "source": [
    "y_hat_test = log_reg.predict(X_test_norm)\n",
    "y_hat_train = log_reg.predict(X_train_norm)"
   ]
  },
  {
   "cell_type": "code",
   "execution_count": 116,
   "metadata": {},
   "outputs": [
    {
     "name": "stdout",
     "output_type": "stream",
     "text": [
      "0.0    188818\n",
      "1.0    125716\n",
      "Name: default, dtype: int64\n",
      "0.0    0.60031\n",
      "1.0    0.39969\n",
      "Name: default, dtype: float64\n"
     ]
    }
   ],
   "source": [
    "residuals = np.abs(y_train - y_hat_train)\n",
    "print(pd.Series(residuals).value_counts())\n",
    "print(pd.Series(residuals).value_counts(normalize=True))"
   ]
  },
  {
   "cell_type": "code",
   "execution_count": 117,
   "metadata": {},
   "outputs": [
    {
     "name": "stdout",
     "output_type": "stream",
     "text": [
      "0.6003103003172948 0.597472459344747\n"
     ]
    }
   ],
   "source": [
    "print(log_reg.score(X_train_norm, y_train), log_reg.score(X_test_norm, y_test))"
   ]
  },
  {
   "cell_type": "markdown",
   "metadata": {},
   "source": [
    "- Strategy (II): Take a random sample from non-default observations "
   ]
  },
  {
   "cell_type": "code",
   "execution_count": 185,
   "metadata": {},
   "outputs": [
    {
     "name": "stderr",
     "output_type": "stream",
     "text": [
      "//anaconda3/lib/python3.7/site-packages/pandas/core/series.py:942: FutureWarning: \n",
      "Passing list-likes to .loc or [] with any missing label will raise\n",
      "KeyError in the future, you can use .reindex() as an alternative.\n",
      "\n",
      "See the documentation here:\n",
      "https://pandas.pydata.org/pandas-docs/stable/indexing.html#deprecate-loc-reindex-listlike\n",
      "  return self.loc[key]\n"
     ]
    }
   ],
   "source": [
    "np.random.seed(100)\n",
    "random_sample = np.random.choice(X_train_norm.shape[0], size = 100000, replace=False)\n",
    "X_train_sample = X_train_norm[random_sample]\n",
    "y_train_sample = y_train[random_sample]"
   ]
  },
  {
   "cell_type": "code",
   "execution_count": 187,
   "metadata": {},
   "outputs": [
    {
     "data": {
      "text/plain": [
       "array([ 59828,  75147,  91537, ...,  13934, 264457, 117705])"
      ]
     },
     "execution_count": 187,
     "metadata": {},
     "output_type": "execute_result"
    }
   ],
   "source": [
    "random_sample"
   ]
  },
  {
   "cell_type": "code",
   "execution_count": 186,
   "metadata": {},
   "outputs": [
    {
     "data": {
      "text/plain": [
       "59828     NaN\n",
       "75147     0.0\n",
       "91537     1.0\n",
       "146022    1.0\n",
       "193594    NaN\n",
       "41810     0.0\n",
       "256602    0.0\n",
       "52871     NaN\n",
       "72470     0.0\n",
       "264399    0.0\n",
       "266445    0.0\n",
       "157216    1.0\n",
       "6360      NaN\n",
       "82516     NaN\n",
       "312021    0.0\n",
       "13791     0.0\n",
       "31723     0.0\n",
       "236509    NaN\n",
       "87496     0.0\n",
       "143014    0.0\n",
       "91108     NaN\n",
       "305865    0.0\n",
       "22889     0.0\n",
       "154322    0.0\n",
       "158288    NaN\n",
       "214866    0.0\n",
       "139399    0.0\n",
       "248633    0.0\n",
       "28242     0.0\n",
       "43229     NaN\n",
       "         ... \n",
       "308209    0.0\n",
       "82300     0.0\n",
       "276059    0.0\n",
       "9400      1.0\n",
       "246777    0.0\n",
       "63772     NaN\n",
       "138400    0.0\n",
       "105894    NaN\n",
       "115652    1.0\n",
       "170829    0.0\n",
       "16810     NaN\n",
       "37164     NaN\n",
       "223351    NaN\n",
       "233310    NaN\n",
       "122727    0.0\n",
       "91689     NaN\n",
       "45504     NaN\n",
       "300317    NaN\n",
       "105771    0.0\n",
       "84693     0.0\n",
       "45016     NaN\n",
       "203682    NaN\n",
       "262824    0.0\n",
       "218749    1.0\n",
       "247696    NaN\n",
       "222828    NaN\n",
       "115902    0.0\n",
       "13934     NaN\n",
       "264457    0.0\n",
       "117705    0.0\n",
       "Name: default, Length: 100000, dtype: float64"
      ]
     },
     "execution_count": 186,
     "metadata": {},
     "output_type": "execute_result"
    }
   ],
   "source": [
    "StratifiedKFold()"
   ]
  },
  {
   "cell_type": "code",
   "execution_count": 160,
   "metadata": {},
   "outputs": [
    {
     "data": {
      "text/plain": [
       "Int64Index([161989, 262572, 374896, 183831,  88198, 415374, 282019, 263326,\n",
       "             91086,  90898,\n",
       "            ...\n",
       "            384119, 400928, 420024, 262613, 368978, 256554, 244107, 192438,\n",
       "            192596,  30392],\n",
       "           dtype='int64', length=314534)"
      ]
     },
     "execution_count": 160,
     "metadata": {},
     "output_type": "execute_result"
    }
   ],
   "source": [
    "X_train.index"
   ]
  },
  {
   "cell_type": "code",
   "execution_count": 153,
   "metadata": {},
   "outputs": [
    {
     "data": {
      "text/plain": [
       "25291"
      ]
     },
     "execution_count": 153,
     "metadata": {},
     "output_type": "execute_result"
    }
   ],
   "source": [
    "y_train_sample.isna().sum()"
   ]
  },
  {
   "cell_type": "code",
   "execution_count": null,
   "metadata": {},
   "outputs": [],
   "source": []
  },
  {
   "cell_type": "code",
   "execution_count": 188,
   "metadata": {},
   "outputs": [],
   "source": [
    "cv = StratifiedKFold(n_splits= 5, random_state=1000, shuffle=True)\n",
    "\n",
    "lr_vanilla = LogisticRegression(C = 1e9, \n",
    "                                solver = 'newton-cg',\n",
    "                                max_iter=500)\n",
    "\n",
    "l2_reg = LogisticRegression(C = 1, \n",
    "                            solver = 'newton-cg',\n",
    "                            penalty='l2',\n",
    "                            max_iter=500)\n",
    "\n",
    "l1_reg = LogisticRegression(C = 1, \n",
    "                           solver= 'saga', \n",
    "                           penalty = 'l1',\n",
    "                            max_iter=500)\n",
    "\n",
    "cv_vanilla = cross_validate(estimator=lr_vanilla, \n",
    "                            X = X_train, y = y_train,\n",
    "                            cv = cv, \n",
    "                            n_jobs=-1, \n",
    "                            return_estimator= True, \n",
    "                            return_train_score=True)\n",
    "\n",
    "cv_l2 = cross_validate(estimator=l2_reg, X = X_train, y = y_train,\n",
    "                    cv = cv, \n",
    "                    n_jobs=-1, \n",
    "                    return_estimator= True, \n",
    "                    return_train_score=True)\n",
    "\n",
    "cv_l1 = cross_validate(estimator=l1_reg, X = X_train, y = y_train,\n",
    "                    cv = cv, \n",
    "                    n_jobs=-1, \n",
    "                    return_estimator= True, \n",
    "                    return_train_score=True)"
   ]
  },
  {
   "cell_type": "code",
   "execution_count": 140,
   "metadata": {},
   "outputs": [
    {
     "name": "stdout",
     "output_type": "stream",
     "text": [
      "Collecting imblearn\n",
      "  Downloading https://files.pythonhosted.org/packages/81/a7/4179e6ebfd654bd0eac0b9c06125b8b4c96a9d0a8ff9e9507eb2a26d2d7e/imblearn-0.0-py2.py3-none-any.whl\n",
      "Collecting imbalanced-learn (from imblearn)\n",
      "\u001b[?25l  Downloading https://files.pythonhosted.org/packages/e6/62/08c14224a7e242df2cef7b312d2ef821c3931ec9b015ff93bb52ec8a10a3/imbalanced_learn-0.5.0-py3-none-any.whl (173kB)\n",
      "\u001b[K     |████████████████████████████████| 174kB 4.5MB/s eta 0:00:01\n",
      "\u001b[?25hRequirement already satisfied: joblib>=0.11 in /anaconda3/lib/python3.7/site-packages (from imbalanced-learn->imblearn) (0.13.2)\n",
      "Requirement already satisfied: scipy>=0.17 in /anaconda3/lib/python3.7/site-packages (from imbalanced-learn->imblearn) (1.3.0)\n",
      "Requirement already satisfied: numpy>=1.11 in /anaconda3/lib/python3.7/site-packages (from imbalanced-learn->imblearn) (1.16.4)\n",
      "Requirement already satisfied: scikit-learn>=0.21 in /anaconda3/lib/python3.7/site-packages (from imbalanced-learn->imblearn) (0.21.2)\n",
      "Installing collected packages: imbalanced-learn, imblearn\n",
      "Successfully installed imbalanced-learn-0.5.0 imblearn-0.0\n"
     ]
    }
   ],
   "source": [
    "!pip install imblearn"
   ]
  },
  {
   "cell_type": "code",
   "execution_count": 141,
   "metadata": {},
   "outputs": [],
   "source": [
    "from imblearn.over_sampling import SMOTE"
   ]
  },
  {
   "cell_type": "code",
   "execution_count": 144,
   "metadata": {},
   "outputs": [
    {
     "data": {
      "text/plain": [
       "pandas.core.series.Series"
      ]
     },
     "execution_count": 144,
     "metadata": {},
     "output_type": "execute_result"
    }
   ],
   "source": [
    "type(y_train)"
   ]
  },
  {
   "cell_type": "code",
   "execution_count": null,
   "metadata": {},
   "outputs": [],
   "source": []
  }
 ],
 "metadata": {
  "kernelspec": {
   "display_name": "Python 3",
   "language": "python",
   "name": "python3"
  },
  "language_info": {
   "codemirror_mode": {
    "name": "ipython",
    "version": 3
   },
   "file_extension": ".py",
   "mimetype": "text/x-python",
   "name": "python",
   "nbconvert_exporter": "python",
   "pygments_lexer": "ipython3",
   "version": "3.7.3"
  },
  "varInspector": {
   "cols": {
    "lenName": 16,
    "lenType": 16,
    "lenVar": 40
   },
   "kernels_config": {
    "python": {
     "delete_cmd_postfix": "",
     "delete_cmd_prefix": "del ",
     "library": "var_list.py",
     "varRefreshCmd": "print(var_dic_list())"
    },
    "r": {
     "delete_cmd_postfix": ") ",
     "delete_cmd_prefix": "rm(",
     "library": "var_list.r",
     "varRefreshCmd": "cat(var_dic_list()) "
    }
   },
   "types_to_exclude": [
    "module",
    "function",
    "builtin_function_or_method",
    "instance",
    "_Feature"
   ],
   "window_display": false
  }
 },
 "nbformat": 4,
 "nbformat_minor": 2
}
